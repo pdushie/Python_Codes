{
  "nbformat": 4,
  "nbformat_minor": 0,
  "metadata": {
    "colab": {
      "provenance": [],
      "authorship_tag": "ABX9TyO73oyvtjH2tJRd67ywHMUu",
      "include_colab_link": true
    },
    "kernelspec": {
      "name": "python3",
      "display_name": "Python 3"
    },
    "language_info": {
      "name": "python"
    }
  },
  "cells": [
    {
      "cell_type": "markdown",
      "metadata": {
        "id": "view-in-github",
        "colab_type": "text"
      },
      "source": [
        "<a href=\"https://colab.research.google.com/github/pdushie/Python_Codes/blob/main/Philip_BinarySearchTree.ipynb\" target=\"_parent\"><img src=\"https://colab.research.google.com/assets/colab-badge.svg\" alt=\"Open In Colab\"/></a>"
      ]
    },
    {
      "cell_type": "code",
      "source": [
        "class BST:\n",
        "  def __init__(self,data):\n",
        "    self.data = data\n",
        "    self.left = None\n",
        "    self.right = None\n",
        "\n",
        "  def insert_node(self,data):\n",
        "    if self.data is None:\n",
        "      self.data = data\n",
        "      return\n",
        "    if data == self.data:\n",
        "      return\n",
        "    if data < self.data:\n",
        "      if self.left:\n",
        "        self.left.insert_node(data)\n",
        "      else:\n",
        "        self.left = BST(data)\n",
        "    else:\n",
        "      if self.right:\n",
        "        self.right.insert_node(data)\n",
        "      else:\n",
        "        self.right = BST(data)\n",
        "\n",
        "  def search(self,search_data):\n",
        "    if self.data == search_data:\n",
        "      return True\n",
        "    if search_data < self.data:\n",
        "      if self.left:\n",
        "        return self.left.search(search_data)\n",
        "      else:\n",
        "        return False\n",
        "    if search_data > self.data:\n",
        "      if self.right:\n",
        "        return self.right.search(search_data)\n",
        "      else:\n",
        "        return False\n",
        "\n",
        "  def search_inorder(self, data): # Searching inorder will return the node data in sorted order\n",
        "    if self.left is not None:\n",
        "        self.left.search_inorder(data)\n",
        "    if self.data is not None:\n",
        "        data.append(self.data)\n",
        "    if self.right is not None:\n",
        "        self.right.search_inorder(data)\n",
        "    return data\n",
        "\n",
        "  def get_ordered_list(self):\n",
        "    ordered_list = []\n",
        "    self.search_inorder(ordered_list)\n",
        "    return ordered_list\n",
        "\n",
        "\n",
        "\n",
        "\n",
        "# Test Case\n",
        "myBinarySearchTree = BST(None) # Initialize BST with None\n",
        "\n",
        "dataList = [5, 3, 7, 2, 4, 6, 8,9,10,1]\n",
        "\n",
        "for data in dataList:\n",
        "   myBinarySearchTree.insert_node(data)\n",
        "\n",
        "\n",
        "print(myBinarySearchTree.search(2)) # 2 is found in the BST hence returns True\n",
        "\n",
        "print(myBinarySearchTree.search(99)) # 99 not found, hence returns False\n",
        "\n",
        "myBinarySearchTree.get_ordered_list() # Returns a list of the node in sorted order"
      ],
      "metadata": {
        "colab": {
          "base_uri": "https://localhost:8080/"
        },
        "id": "t7G8_PXS_Vuq",
        "outputId": "633ae4e5-6172-42c1-aaee-216629665107"
      },
      "execution_count": 65,
      "outputs": [
        {
          "output_type": "stream",
          "name": "stdout",
          "text": [
            "True\n",
            "False\n"
          ]
        },
        {
          "output_type": "execute_result",
          "data": {
            "text/plain": [
              "[1, 2, 3, 4, 5, 6, 7, 8, 9, 10]"
            ]
          },
          "metadata": {},
          "execution_count": 65
        }
      ]
    }
  ]
}